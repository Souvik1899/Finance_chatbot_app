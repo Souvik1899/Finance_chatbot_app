{
 "cells": [
  {
   "cell_type": "code",
   "execution_count": 1,
   "id": "45fbdc91-670d-4c91-8000-96c575a669a3",
   "metadata": {},
   "outputs": [
    {
     "name": "stdout",
     "output_type": "stream",
     "text": [
      "Hello!\n"
     ]
    }
   ],
   "source": [
    "print(\"Hello!\")"
   ]
  },
  {
   "cell_type": "code",
   "execution_count": 2,
   "id": "d39db3ff-6e9c-4015-8022-48b5ba9d7663",
   "metadata": {},
   "outputs": [
    {
     "name": "stdout",
     "output_type": "stream",
     "text": [
      "Requirement already satisfied: pandas in c:\\users\\souvi\\appdata\\local\\programs\\python\\python313\\lib\\site-packages (2.2.3)\n",
      "Requirement already satisfied: openpyxl in c:\\users\\souvi\\appdata\\local\\programs\\python\\python313\\lib\\site-packages (3.1.5)\n",
      "Requirement already satisfied: numpy>=1.26.0 in c:\\users\\souvi\\appdata\\local\\programs\\python\\python313\\lib\\site-packages (from pandas) (2.2.5)\n",
      "Requirement already satisfied: python-dateutil>=2.8.2 in c:\\users\\souvi\\appdata\\local\\programs\\python\\python313\\lib\\site-packages (from pandas) (2.9.0.post0)\n",
      "Requirement already satisfied: pytz>=2020.1 in c:\\users\\souvi\\appdata\\local\\programs\\python\\python313\\lib\\site-packages (from pandas) (2025.2)\n",
      "Requirement already satisfied: tzdata>=2022.7 in c:\\users\\souvi\\appdata\\local\\programs\\python\\python313\\lib\\site-packages (from pandas) (2025.2)\n",
      "Requirement already satisfied: et-xmlfile in c:\\users\\souvi\\appdata\\local\\programs\\python\\python313\\lib\\site-packages (from openpyxl) (2.0.0)\n",
      "Requirement already satisfied: six>=1.5 in c:\\users\\souvi\\appdata\\local\\programs\\python\\python313\\lib\\site-packages (from python-dateutil>=2.8.2->pandas) (1.17.0)\n",
      "Note: you may need to restart the kernel to use updated packages.\n"
     ]
    },
    {
     "name": "stderr",
     "output_type": "stream",
     "text": [
      "\n",
      "[notice] A new release of pip is available: 25.0.1 -> 25.1.1\n",
      "[notice] To update, run: python.exe -m pip install --upgrade pip\n"
     ]
    }
   ],
   "source": [
    "pip install pandas openpyxl"
   ]
  },
  {
   "cell_type": "code",
   "execution_count": 3,
   "id": "f1c56c1a-f781-4f28-a65a-3287324050cd",
   "metadata": {},
   "outputs": [
    {
     "data": {
      "text/plain": [
       "['Sheet1']"
      ]
     },
     "execution_count": 3,
     "metadata": {},
     "output_type": "execute_result"
    }
   ],
   "source": [
    "import pandas as pd\n",
    "\n",
    "# Load the Excel file\n",
    "excel_file = pd.ExcelFile(\"BCGX project.xlsx\")\n",
    "\n",
    "# Show sheet names\n",
    "excel_file.sheet_names"
   ]
  },
  {
   "cell_type": "code",
   "execution_count": 4,
   "id": "a9847ca8-8bdb-4ef2-908f-68deb4987a54",
   "metadata": {},
   "outputs": [
    {
     "data": {
      "text/html": [
       "<div>\n",
       "<style scoped>\n",
       "    .dataframe tbody tr th:only-of-type {\n",
       "        vertical-align: middle;\n",
       "    }\n",
       "\n",
       "    .dataframe tbody tr th {\n",
       "        vertical-align: top;\n",
       "    }\n",
       "\n",
       "    .dataframe thead th {\n",
       "        text-align: right;\n",
       "    }\n",
       "</style>\n",
       "<table border=\"1\" class=\"dataframe\">\n",
       "  <thead>\n",
       "    <tr style=\"text-align: right;\">\n",
       "      <th></th>\n",
       "      <th>Company</th>\n",
       "      <th>Year</th>\n",
       "      <th>Total Revenue</th>\n",
       "      <th>Net Income</th>\n",
       "      <th>Total Assets</th>\n",
       "      <th>Total Liabilities</th>\n",
       "      <th>Cash Flow from Operating Activities</th>\n",
       "    </tr>\n",
       "  </thead>\n",
       "  <tbody>\n",
       "    <tr>\n",
       "      <th>0</th>\n",
       "      <td>Apple</td>\n",
       "      <td>2024</td>\n",
       "      <td>7700000000</td>\n",
       "      <td>93736</td>\n",
       "      <td>364980.0</td>\n",
       "      <td>308030.0</td>\n",
       "      <td>118254</td>\n",
       "    </tr>\n",
       "    <tr>\n",
       "      <th>1</th>\n",
       "      <td>Apple</td>\n",
       "      <td>2023</td>\n",
       "      <td>8200000000</td>\n",
       "      <td>96995</td>\n",
       "      <td>352583.0</td>\n",
       "      <td>290437.0</td>\n",
       "      <td>110543</td>\n",
       "    </tr>\n",
       "    <tr>\n",
       "      <th>2</th>\n",
       "      <td>Apple</td>\n",
       "      <td>2022</td>\n",
       "      <td>7500000000</td>\n",
       "      <td>99803</td>\n",
       "      <td>NaN</td>\n",
       "      <td>NaN</td>\n",
       "      <td>122151</td>\n",
       "    </tr>\n",
       "    <tr>\n",
       "      <th>3</th>\n",
       "      <td>Tesla</td>\n",
       "      <td>2024</td>\n",
       "      <td>97690</td>\n",
       "      <td>7153</td>\n",
       "      <td>122070.0</td>\n",
       "      <td>48390.0</td>\n",
       "      <td>17037</td>\n",
       "    </tr>\n",
       "    <tr>\n",
       "      <th>4</th>\n",
       "      <td>Tesla</td>\n",
       "      <td>2023</td>\n",
       "      <td>96773</td>\n",
       "      <td>14974</td>\n",
       "      <td>106618.0</td>\n",
       "      <td>43009.0</td>\n",
       "      <td>17189</td>\n",
       "    </tr>\n",
       "  </tbody>\n",
       "</table>\n",
       "</div>"
      ],
      "text/plain": [
       "  Company  Year  Total Revenue  Net Income  Total Assets  Total Liabilities  \\\n",
       "0   Apple  2024     7700000000       93736      364980.0           308030.0   \n",
       "1   Apple  2023     8200000000       96995      352583.0           290437.0   \n",
       "2   Apple  2022     7500000000       99803           NaN                NaN   \n",
       "3   Tesla  2024          97690        7153      122070.0            48390.0   \n",
       "4   Tesla  2023          96773       14974      106618.0            43009.0   \n",
       "\n",
       "   Cash Flow from Operating Activities  \n",
       "0                               118254  \n",
       "1                               110543  \n",
       "2                               122151  \n",
       "3                                17037  \n",
       "4                                17189  "
      ]
     },
     "execution_count": 4,
     "metadata": {},
     "output_type": "execute_result"
    }
   ],
   "source": [
    "import pandas as pd\n",
    "\n",
    "# Load the Excel file\n",
    "excel_file = pd.ExcelFile(\"BCGX project.xlsx\")\n",
    "\n",
    "# Load data from Sheet1\n",
    "df = pd.read_excel(excel_file, sheet_name=\"Sheet1\")\n",
    "\n",
    "# Display first few rows to confirm\n",
    "df.head()\n"
   ]
  },
  {
   "cell_type": "code",
   "execution_count": 5,
   "id": "646483b6-1e51-45c9-bb0f-acfb0b324044",
   "metadata": {},
   "outputs": [
    {
     "name": "stderr",
     "output_type": "stream",
     "text": [
      "C:\\Users\\souvi\\AppData\\Local\\Temp\\ipykernel_23656\\533743331.py:7: FutureWarning: The default fill_method='ffill' in SeriesGroupBy.pct_change is deprecated and will be removed in a future version. Either fill in any non-leading NA values prior to calling pct_change or specify 'fill_method=None' to not fill NA values.\n",
      "  df['Assets Growth (%)'] = df.groupby('Company')['Total Assets'].pct_change() * 100\n",
      "C:\\Users\\souvi\\AppData\\Local\\Temp\\ipykernel_23656\\533743331.py:8: FutureWarning: The default fill_method='ffill' in SeriesGroupBy.pct_change is deprecated and will be removed in a future version. Either fill in any non-leading NA values prior to calling pct_change or specify 'fill_method=None' to not fill NA values.\n",
      "  df['Liabilities Growth (%)'] = df.groupby('Company')['Total Liabilities'].pct_change() * 100\n"
     ]
    },
    {
     "data": {
      "text/html": [
       "<div>\n",
       "<style scoped>\n",
       "    .dataframe tbody tr th:only-of-type {\n",
       "        vertical-align: middle;\n",
       "    }\n",
       "\n",
       "    .dataframe tbody tr th {\n",
       "        vertical-align: top;\n",
       "    }\n",
       "\n",
       "    .dataframe thead th {\n",
       "        text-align: right;\n",
       "    }\n",
       "</style>\n",
       "<table border=\"1\" class=\"dataframe\">\n",
       "  <thead>\n",
       "    <tr style=\"text-align: right;\">\n",
       "      <th></th>\n",
       "      <th>Company</th>\n",
       "      <th>Year</th>\n",
       "      <th>Total Revenue</th>\n",
       "      <th>Net Income</th>\n",
       "      <th>Total Assets</th>\n",
       "      <th>Total Liabilities</th>\n",
       "      <th>Cash Flow from Operating Activities</th>\n",
       "      <th>Revenue Growth (%)</th>\n",
       "      <th>Net Income Growth (%)</th>\n",
       "      <th>Assets Growth (%)</th>\n",
       "      <th>Liabilities Growth (%)</th>\n",
       "      <th>Operating Cash Flow Growth (%)</th>\n",
       "    </tr>\n",
       "  </thead>\n",
       "  <tbody>\n",
       "    <tr>\n",
       "      <th>2</th>\n",
       "      <td>Apple</td>\n",
       "      <td>2022</td>\n",
       "      <td>7500000000</td>\n",
       "      <td>99803</td>\n",
       "      <td>NaN</td>\n",
       "      <td>NaN</td>\n",
       "      <td>122151</td>\n",
       "      <td>NaN</td>\n",
       "      <td>NaN</td>\n",
       "      <td>NaN</td>\n",
       "      <td>NaN</td>\n",
       "      <td>NaN</td>\n",
       "    </tr>\n",
       "    <tr>\n",
       "      <th>1</th>\n",
       "      <td>Apple</td>\n",
       "      <td>2023</td>\n",
       "      <td>8200000000</td>\n",
       "      <td>96995</td>\n",
       "      <td>352583.0</td>\n",
       "      <td>290437.0</td>\n",
       "      <td>110543</td>\n",
       "      <td>9.333333</td>\n",
       "      <td>-2.813543</td>\n",
       "      <td>NaN</td>\n",
       "      <td>NaN</td>\n",
       "      <td>-9.502992</td>\n",
       "    </tr>\n",
       "    <tr>\n",
       "      <th>0</th>\n",
       "      <td>Apple</td>\n",
       "      <td>2024</td>\n",
       "      <td>7700000000</td>\n",
       "      <td>93736</td>\n",
       "      <td>364980.0</td>\n",
       "      <td>308030.0</td>\n",
       "      <td>118254</td>\n",
       "      <td>-6.097561</td>\n",
       "      <td>-3.359967</td>\n",
       "      <td>3.516052</td>\n",
       "      <td>6.057424</td>\n",
       "      <td>6.975566</td>\n",
       "    </tr>\n",
       "    <tr>\n",
       "      <th>8</th>\n",
       "      <td>Microsoft</td>\n",
       "      <td>2022</td>\n",
       "      <td>198270</td>\n",
       "      <td>72738</td>\n",
       "      <td>NaN</td>\n",
       "      <td>NaN</td>\n",
       "      <td>89035</td>\n",
       "      <td>NaN</td>\n",
       "      <td>NaN</td>\n",
       "      <td>NaN</td>\n",
       "      <td>NaN</td>\n",
       "      <td>NaN</td>\n",
       "    </tr>\n",
       "    <tr>\n",
       "      <th>7</th>\n",
       "      <td>Microsoft</td>\n",
       "      <td>2023</td>\n",
       "      <td>211915</td>\n",
       "      <td>72361</td>\n",
       "      <td>411976.0</td>\n",
       "      <td>411976.0</td>\n",
       "      <td>87582</td>\n",
       "      <td>6.882030</td>\n",
       "      <td>-0.518299</td>\n",
       "      <td>NaN</td>\n",
       "      <td>NaN</td>\n",
       "      <td>-1.631942</td>\n",
       "    </tr>\n",
       "    <tr>\n",
       "      <th>6</th>\n",
       "      <td>Microsoft</td>\n",
       "      <td>2024</td>\n",
       "      <td>245122</td>\n",
       "      <td>88136</td>\n",
       "      <td>512163.0</td>\n",
       "      <td>512163.0</td>\n",
       "      <td>118548</td>\n",
       "      <td>15.669962</td>\n",
       "      <td>21.800417</td>\n",
       "      <td>24.318650</td>\n",
       "      <td>24.318650</td>\n",
       "      <td>35.356580</td>\n",
       "    </tr>\n",
       "    <tr>\n",
       "      <th>5</th>\n",
       "      <td>Tesla</td>\n",
       "      <td>2022</td>\n",
       "      <td>81462</td>\n",
       "      <td>12587</td>\n",
       "      <td>NaN</td>\n",
       "      <td>NaN</td>\n",
       "      <td>16624</td>\n",
       "      <td>NaN</td>\n",
       "      <td>NaN</td>\n",
       "      <td>NaN</td>\n",
       "      <td>NaN</td>\n",
       "      <td>NaN</td>\n",
       "    </tr>\n",
       "    <tr>\n",
       "      <th>4</th>\n",
       "      <td>Tesla</td>\n",
       "      <td>2023</td>\n",
       "      <td>96773</td>\n",
       "      <td>14974</td>\n",
       "      <td>106618.0</td>\n",
       "      <td>43009.0</td>\n",
       "      <td>17189</td>\n",
       "      <td>18.795267</td>\n",
       "      <td>18.964010</td>\n",
       "      <td>NaN</td>\n",
       "      <td>NaN</td>\n",
       "      <td>3.398701</td>\n",
       "    </tr>\n",
       "    <tr>\n",
       "      <th>3</th>\n",
       "      <td>Tesla</td>\n",
       "      <td>2024</td>\n",
       "      <td>97690</td>\n",
       "      <td>7153</td>\n",
       "      <td>122070.0</td>\n",
       "      <td>48390.0</td>\n",
       "      <td>17037</td>\n",
       "      <td>0.947578</td>\n",
       "      <td>-52.230533</td>\n",
       "      <td>14.492862</td>\n",
       "      <td>12.511335</td>\n",
       "      <td>-0.884286</td>\n",
       "    </tr>\n",
       "  </tbody>\n",
       "</table>\n",
       "</div>"
      ],
      "text/plain": [
       "     Company  Year  Total Revenue  Net Income  Total Assets  \\\n",
       "2      Apple  2022     7500000000       99803           NaN   \n",
       "1      Apple  2023     8200000000       96995      352583.0   \n",
       "0      Apple  2024     7700000000       93736      364980.0   \n",
       "8  Microsoft  2022         198270       72738           NaN   \n",
       "7  Microsoft  2023         211915       72361      411976.0   \n",
       "6  Microsoft  2024         245122       88136      512163.0   \n",
       "5      Tesla  2022          81462       12587           NaN   \n",
       "4      Tesla  2023          96773       14974      106618.0   \n",
       "3      Tesla  2024          97690        7153      122070.0   \n",
       "\n",
       "   Total Liabilities  Cash Flow from Operating Activities  Revenue Growth (%)  \\\n",
       "2                NaN                               122151                 NaN   \n",
       "1           290437.0                               110543            9.333333   \n",
       "0           308030.0                               118254           -6.097561   \n",
       "8                NaN                                89035                 NaN   \n",
       "7           411976.0                                87582            6.882030   \n",
       "6           512163.0                               118548           15.669962   \n",
       "5                NaN                                16624                 NaN   \n",
       "4            43009.0                                17189           18.795267   \n",
       "3            48390.0                                17037            0.947578   \n",
       "\n",
       "   Net Income Growth (%)  Assets Growth (%)  Liabilities Growth (%)  \\\n",
       "2                    NaN                NaN                     NaN   \n",
       "1              -2.813543                NaN                     NaN   \n",
       "0              -3.359967           3.516052                6.057424   \n",
       "8                    NaN                NaN                     NaN   \n",
       "7              -0.518299                NaN                     NaN   \n",
       "6              21.800417          24.318650               24.318650   \n",
       "5                    NaN                NaN                     NaN   \n",
       "4              18.964010                NaN                     NaN   \n",
       "3             -52.230533          14.492862               12.511335   \n",
       "\n",
       "   Operating Cash Flow Growth (%)  \n",
       "2                             NaN  \n",
       "1                       -9.502992  \n",
       "0                        6.975566  \n",
       "8                             NaN  \n",
       "7                       -1.631942  \n",
       "6                       35.356580  \n",
       "5                             NaN  \n",
       "4                        3.398701  \n",
       "3                       -0.884286  "
      ]
     },
     "execution_count": 5,
     "metadata": {},
     "output_type": "execute_result"
    }
   ],
   "source": [
    "# Ensure data is sorted by Company and Year for accurate calculations\n",
    "df = df.sort_values(by=['Company', 'Year'])\n",
    "\n",
    "# Calculate YoY % change for each metric\n",
    "df['Revenue Growth (%)'] = df.groupby('Company')['Total Revenue'].pct_change() * 100\n",
    "df['Net Income Growth (%)'] = df.groupby('Company')['Net Income'].pct_change() * 100\n",
    "df['Assets Growth (%)'] = df.groupby('Company')['Total Assets'].pct_change() * 100\n",
    "df['Liabilities Growth (%)'] = df.groupby('Company')['Total Liabilities'].pct_change() * 100\n",
    "df['Operating Cash Flow Growth (%)'] = df.groupby('Company')['Cash Flow from Operating Activities'].pct_change() * 100\n",
    "\n",
    "# Show updated DataFrame\n",
    "df\n"
   ]
  },
  {
   "cell_type": "code",
   "execution_count": 6,
   "id": "43f12873-2413-4ad9-82b9-7eeefc9d2ce5",
   "metadata": {},
   "outputs": [
    {
     "ename": "SyntaxError",
     "evalue": "invalid syntax (2760904312.py, line 4)",
     "output_type": "error",
     "traceback": [
      "  \u001b[36mCell\u001b[39m\u001b[36m \u001b[39m\u001b[32mIn[6]\u001b[39m\u001b[32m, line 4\u001b[39m\n\u001b[31m    \u001b[39m\u001b[31mThis project analyzes key financial data (Total Revenue, Net Income, Total Assets, Total Liabilities, and Cash Flow from Operating Activities) from the last three fiscal years for Microsoft, Tesla, and Apple using data manually extracted from SEC 10-K filings. The goal is to identify trends that can inform an AI-powered financial chatbot.\u001b[39m\n         ^\n\u001b[31mSyntaxError\u001b[39m\u001b[31m:\u001b[39m invalid syntax\n"
     ]
    }
   ],
   "source": [
    "# Financial Analysis of 10-K Reports (Microsoft, Tesla, Apple)\n",
    "\n",
    "## Project Overview\n",
    "This project analyzes key financial data (Total Revenue, Net Income, Total Assets, Total Liabilities, and Cash Flow from Operating Activities) from the last three fiscal years for Microsoft, Tesla, and Apple using data manually extracted from SEC 10-K filings. The goal is to identify trends that can inform an AI-powered financial chatbot.\n"
   ]
  },
  {
   "cell_type": "code",
   "execution_count": null,
   "id": "d9ab97de-fc81-4d3e-9749-7c8ee2ce33a6",
   "metadata": {},
   "outputs": [],
   "source": [
    "## Summary of Findings\n",
    "\n",
    "### Microsoft\n",
    "- **Revenue Growth**: Steady year-over-year growth observed.\n",
    "- **Net Income**: Slight fluctuation with moderate growth.\n",
    "- **Total Assets**: Gradual increase across all three years.\n",
    "- **Cash Flow from Operations**: Consistent performance, reflecting solid core operations.\n",
    "\n",
    "### Tesla\n",
    "- **Revenue Growth**: Very high growth, especially in the latest fiscal year due to expansion in production and sales.\n",
    "- **Net Income**: Improved significantly, reflecting Tesla’s maturing profitability.\n",
    "- **Assets vs. Liabilities**: Growing assets, though liabilities remain high due to expansion efforts.\n",
    "- **Cash Flow**: Strong positive shift, indicating better financial control.\n",
    "\n",
    "### Apple\n",
    "- **Revenue and Net Income**: Strong but relatively stable; Apple maintains a high-margin business.\n",
    "- **Total Assets**: Significant, with balanced liabilities.\n",
    "- **Cash Flow from Operations**: Among the strongest, showing efficient cash management.\n",
    "\n",
    "## Key Takeaway\n",
    "- Microsoft and Apple show stable financial performance, suitable for modeling mature tech firms.\n",
    "- Tesla shows rapid growth and emerging profitability, making it useful for modeling high-growth companies.\n"
   ]
  },
  {
   "cell_type": "code",
   "execution_count": null,
   "id": "16125d9e-90d4-4c82-b453-dfc3f0f581d9",
   "metadata": {},
   "outputs": [],
   "source": [
    "## Methodology\n",
    "\n",
    "1. **Data Extraction**: Manually collected data from the 10-K filings of each company from SEC's EDGAR database.\n",
    "2. **Data Organization**: Structured the data into Excel, then converted it to CSV for analysis in Python.\n",
    "3. **Data Analysis**: Used pandas in Jupyter Notebook to compute year-over-year percentage changes for financial metrics.\n",
    "4. **Trend Identification**: Compared performance across companies to understand how financial health and growth varied.\n",
    "\n"
   ]
  },
  {
   "cell_type": "code",
   "execution_count": 6,
   "id": "5c235dcb-ca7f-496b-9507-7a1d76d19016",
   "metadata": {},
   "outputs": [
    {
     "name": "stdout",
     "output_type": "stream",
     "text": [
      "Welcome to the Financial Chatbot!\n",
      "Ask about financial data for Microsoft, Tesla, or Apple.\n",
      "\n",
      "Available commands:\n",
      "- total revenue\n",
      "- net income changed\n",
      "- total assets\n",
      "- total liabilities\n",
      "- cash flow\n",
      "- help (shows this menu)\n",
      "- exit (quits the program)\n"
     ]
    },
    {
     "name": "stdin",
     "output_type": "stream",
     "text": [
      "\n",
      "You:  Total Revenue\n",
      "Which company? (Microsoft/Tesla/Apple):  Microsoft\n",
      "Which year? (2021/2022/2023):  2021\n"
     ]
    },
    {
     "name": "stdout",
     "output_type": "stream",
     "text": [
      "Chatbot: Data not found for Microsoft in 2021. Please check your input.\n"
     ]
    },
    {
     "name": "stdin",
     "output_type": "stream",
     "text": [
      "\n",
      "You:  total income\n"
     ]
    },
    {
     "name": "stdout",
     "output_type": "stream",
     "text": [
      "Chatbot: I don't understand that question. Type 'help' to see available commands.\n"
     ]
    },
    {
     "name": "stdin",
     "output_type": "stream",
     "text": [
      "\n",
      "You:  total revenue\n",
      "Which company? (Microsoft/Tesla/Apple):  Microsoft\n",
      "Which year? (2021/2022/2023):  2022\n"
     ]
    },
    {
     "name": "stdout",
     "output_type": "stream",
     "text": [
      "Chatbot: The total revenue for Microsoft in 2022 was $198,270.\n"
     ]
    },
    {
     "name": "stdin",
     "output_type": "stream",
     "text": [
      "\n",
      "You:  cash flow\n",
      "Which company? (Microsoft/Tesla/Apple):  Tesla\n",
      "Which year? (2021/2022/2023):  2022\n"
     ]
    },
    {
     "name": "stdout",
     "output_type": "stream",
     "text": [
      "Chatbot: The cash flow from operating activities for Tesla in 2022 was $16,624.\n"
     ]
    },
    {
     "name": "stdin",
     "output_type": "stream",
     "text": [
      "\n",
      "You:  help\n"
     ]
    },
    {
     "name": "stdout",
     "output_type": "stream",
     "text": [
      "\n",
      "Available commands:\n",
      "- total revenue\n",
      "- net income changed\n",
      "- total assets\n",
      "- total liabilities\n",
      "- cash flow\n",
      "- help (shows this menu)\n",
      "- exit (quits the program)\n"
     ]
    },
    {
     "name": "stdin",
     "output_type": "stream",
     "text": [
      "\n",
      "You:  total liabilities\n",
      "Which company? (Microsoft/Tesla/Apple):  Microsoft\n",
      "Which year? (2021/2022/2023):  2023\n"
     ]
    },
    {
     "name": "stdout",
     "output_type": "stream",
     "text": [
      "Chatbot: The total liabilities of Microsoft in 2023 were $411,976.0.\n"
     ]
    },
    {
     "name": "stdin",
     "output_type": "stream",
     "text": [
      "\n",
      "You:  total assets\n",
      "Which company? (Microsoft/Tesla/Apple):  Tesla\n",
      "Which year? (2021/2022/2023):  2022\n"
     ]
    },
    {
     "name": "stdout",
     "output_type": "stream",
     "text": [
      "Chatbot: The total assets of Tesla in 2022 were $nan.\n"
     ]
    },
    {
     "name": "stdin",
     "output_type": "stream",
     "text": [
      "\n",
      "You:  total assets\n",
      "Which company? (Microsoft/Tesla/Apple):  Microsoft\n",
      "Which year? (2021/2022/2023):  2022\n"
     ]
    },
    {
     "name": "stdout",
     "output_type": "stream",
     "text": [
      "Chatbot: The total assets of Microsoft in 2022 were $nan.\n"
     ]
    },
    {
     "name": "stdin",
     "output_type": "stream",
     "text": [
      "\n",
      "You:  net income changed\n",
      "Which company?  Microsoft\n",
      "From year (e.g., 2021):  2022\n",
      "To year (e.g., 2022):  2023\n"
     ]
    },
    {
     "name": "stdout",
     "output_type": "stream",
     "text": [
      "Chatbot: Net income for Microsoft decreased by 0.52% from 2022 to 2023.\n",
      "         2022: $72,738, 2023: $72,361\n"
     ]
    },
    {
     "name": "stdin",
     "output_type": "stream",
     "text": [
      "\n",
      "You:  exit\n"
     ]
    },
    {
     "name": "stdout",
     "output_type": "stream",
     "text": [
      "Chatbot: Goodbye!\n"
     ]
    }
   ],
   "source": [
    "## import pandas as pd\n",
    "# Make sure pandas has openpyxl installed for Excel support\n",
    "# If you get an error, run: pip install openpyxl\n",
    "\n",
    "def load_data():\n",
    "    \"\"\"Load and prepare the financial data.\"\"\"\n",
    "    try:\n",
    "        # Use pd.read_excel for Excel files instead of pd.read_csv\n",
    "        df = pd.read_excel(\"BCGX project.xlsx\")\n",
    "        # Convert Year column to string for easier comparison\n",
    "        df[\"Year\"] = df[\"Year\"].astype(str)\n",
    "        return df\n",
    "    except FileNotFoundError:\n",
    "        print(\"Error: Data file not found. Please make sure 'BCGX project.xlsx' exists.\")\n",
    "        return None\n",
    "    except UnicodeDecodeError:\n",
    "        print(\"Error: File encoding issue. Make sure the file is in the correct format.\")\n",
    "        return None\n",
    "    except Exception as e:\n",
    "        print(f\"Error loading data: {e}\")\n",
    "        return None\n",
    "\n",
    "def get_company_and_year():\n",
    "    \"\"\"Get standardized company and year input from user.\"\"\"\n",
    "    company = input(\"Which company? (Microsoft/Tesla/Apple): \").title().strip()\n",
    "    year = input(\"Which year? (2021/2022/2023): \").strip()\n",
    "    return company, year\n",
    "\n",
    "def check_data_exists(df, company, year, column=None):\n",
    "    \"\"\"Check if the requested data exists in the dataframe.\"\"\"\n",
    "    query = (df[\"Company\"] == company) & (df[\"Year\"] == year)\n",
    "    if column:\n",
    "        return not df.loc[query, column].empty\n",
    "    return not df.loc[query].empty\n",
    "\n",
    "def display_available_commands():\n",
    "    \"\"\"Display the list of available commands.\"\"\"\n",
    "    print(\"\\nAvailable commands:\")\n",
    "    print(\"- total revenue\")\n",
    "    print(\"- net income changed\")\n",
    "    print(\"- total assets\")\n",
    "    print(\"- total liabilities\")\n",
    "    print(\"- cash flow\")\n",
    "    print(\"- help (shows this menu)\")\n",
    "    print(\"- exit (quits the program)\")\n",
    "\n",
    "def financial_chatbot():\n",
    "    \"\"\"Main chatbot function with improved error handling and user experience.\"\"\"\n",
    "    # Load data\n",
    "    df = load_data()\n",
    "    if df is None:\n",
    "        return\n",
    "    \n",
    "    print(\"Welcome to the Financial Chatbot!\")\n",
    "    print(\"Ask about financial data for Microsoft, Tesla, or Apple.\")\n",
    "    display_available_commands()\n",
    "    \n",
    "    while True:\n",
    "        user_input = input(\"\\nYou: \").lower()\n",
    "        \n",
    "        if user_input == \"exit\":\n",
    "            print(\"Chatbot: Goodbye!\")\n",
    "            break\n",
    "            \n",
    "        elif user_input == \"help\":\n",
    "            display_available_commands()\n",
    "            \n",
    "        elif \"total revenue\" in user_input:\n",
    "            company, year = get_company_and_year()\n",
    "            \n",
    "            if check_data_exists(df, company, year, \"Total Revenue\"):\n",
    "                revenue = df.loc[(df[\"Company\"] == company) & (df[\"Year\"] == year), \"Total Revenue\"].values[0]\n",
    "                print(f\"Chatbot: The total revenue for {company} in {year} was ${revenue:,}.\")\n",
    "            else:\n",
    "                print(f\"Chatbot: Data not found for {company} in {year}. Please check your input.\")\n",
    "        \n",
    "        elif \"net income\" in user_input and \"changed\" in user_input:\n",
    "            company = input(\"Which company? \").title().strip()\n",
    "            year1 = input(\"From year (e.g., 2021): \").strip()\n",
    "            year2 = input(\"To year (e.g., 2022): \").strip()\n",
    "            \n",
    "            if (check_data_exists(df, company, year1, \"Net Income\") and \n",
    "                check_data_exists(df, company, year2, \"Net Income\")):\n",
    "                \n",
    "                ni1 = df.loc[(df[\"Company\"] == company) & (df[\"Year\"] == year1), \"Net Income\"].values[0]\n",
    "                ni2 = df.loc[(df[\"Company\"] == company) & (df[\"Year\"] == year2), \"Net Income\"].values[0]\n",
    "                \n",
    "                if ni1 == 0:\n",
    "                    if ni2 > 0:\n",
    "                        print(f\"Chatbot: Net income for {company} increased from $0 in {year1} to ${ni2:,} in {year2}.\")\n",
    "                    elif ni2 < 0:\n",
    "                        print(f\"Chatbot: Net income for {company} decreased from $0 in {year1} to -${abs(ni2):,} in {year2}.\")\n",
    "                    else:\n",
    "                        print(f\"Chatbot: Net income for {company} remained at $0 from {year1} to {year2}.\")\n",
    "                else:\n",
    "                    change = ((ni2 - ni1) / abs(ni1)) * 100\n",
    "                    direction = \"increased\" if change > 0 else \"decreased\"\n",
    "                    print(f\"Chatbot: Net income for {company} {direction} by {abs(change):.2f}% from {year1} to {year2}.\")\n",
    "                    print(f\"         {year1}: ${ni1:,}, {year2}: ${ni2:,}\")\n",
    "            else:\n",
    "                print(f\"Chatbot: Unable to calculate net income change. Data missing for {company} in {year1} or {year2}.\")\n",
    "                \n",
    "        elif \"total assets\" in user_input:\n",
    "            company, year = get_company_and_year()\n",
    "            \n",
    "            if check_data_exists(df, company, year, \"Total Assets\"):\n",
    "                assets = df.loc[(df[\"Company\"] == company) & (df[\"Year\"] == year), \"Total Assets\"].values[0]\n",
    "                print(f\"Chatbot: The total assets of {company} in {year} were ${assets:,}.\")\n",
    "            else:\n",
    "                print(f\"Chatbot: Data not found for {company} in {year}.\")\n",
    "        \n",
    "        elif \"total liabilities\" in user_input:\n",
    "            company, year = get_company_and_year()\n",
    "            \n",
    "            if check_data_exists(df, company, year, \"Total Liabilities\"):\n",
    "                liabilities = df.loc[(df[\"Company\"] == company) & (df[\"Year\"] == year), \"Total Liabilities\"].values[0]\n",
    "                print(f\"Chatbot: The total liabilities of {company} in {year} were ${liabilities:,}.\")\n",
    "            else:\n",
    "                print(f\"Chatbot: Data not found for {company} in {year}.\")\n",
    "                \n",
    "        elif \"cash flow\" in user_input:\n",
    "            company, year = get_company_and_year()\n",
    "            \n",
    "            if check_data_exists(df, company, year, \"Cash Flow from Operating Activities\"):\n",
    "                cash_flow = df.loc[(df[\"Company\"] == company) & (df[\"Year\"] == year), \"Cash Flow from Operating Activities\"].values[0]\n",
    "                print(f\"Chatbot: The cash flow from operating activities for {company} in {year} was ${cash_flow:,}.\")\n",
    "            else:\n",
    "                print(f\"Chatbot: Data not found for {company} in {year}.\")\n",
    "        \n",
    "        else:\n",
    "            print(\"Chatbot: I don't understand that question. Type 'help' to see available commands.\")\n",
    "\n",
    "if __name__ == \"__main__\":\n",
    "    financial_chatbot()"
   ]
  },
  {
   "cell_type": "code",
   "execution_count": null,
   "id": "517c5779-8ab4-4e8f-8e81-4b8af04770cb",
   "metadata": {},
   "outputs": [],
   "source": []
  }
 ],
 "metadata": {
  "kernelspec": {
   "display_name": "Python 3 (ipykernel)",
   "language": "python",
   "name": "python3"
  },
  "language_info": {
   "codemirror_mode": {
    "name": "ipython",
    "version": 3
   },
   "file_extension": ".py",
   "mimetype": "text/x-python",
   "name": "python",
   "nbconvert_exporter": "python",
   "pygments_lexer": "ipython3",
   "version": "3.13.3"
  }
 },
 "nbformat": 4,
 "nbformat_minor": 5
}
